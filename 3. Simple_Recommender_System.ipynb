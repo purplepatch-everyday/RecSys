{
  "nbformat": 4,
  "nbformat_minor": 0,
  "metadata": {
    "colab": {
      "name": "Simple Recommender System.ipynb",
      "provenance": [],
      "collapsed_sections": [],
      "authorship_tag": "ABX9TyOoW723SXjyTuxyTljabOt/",
      "include_colab_link": true
    },
    "kernelspec": {
      "name": "python3",
      "display_name": "Python 3"
    },
    "language_info": {
      "name": "python"
    },
    "accelerator": "GPU"
  },
  "cells": [
    {
      "cell_type": "markdown",
      "metadata": {
        "id": "view-in-github",
        "colab_type": "text"
      },
      "source": [
        "<a href=\"https://colab.research.google.com/github/purplepatch-everyday/RecSys/blob/main/Simple_Recommender_System.ipynb\" target=\"_parent\"><img src=\"https://colab.research.google.com/assets/colab-badge.svg\" alt=\"Open In Colab\"/></a>"
      ]
    },
    {
      "cell_type": "code",
      "metadata": {
        "colab": {
          "base_uri": "https://localhost:8080/"
        },
        "id": "b1kJqb-UWhJF",
        "outputId": "50080372-ffa8-437a-83b9-6f2665fdf7c0"
      },
      "source": [
        "!pip install wget\n",
        "import wget\n",
        "import zipfile\n",
        "import os\n",
        "import pandas as pd\n"
      ],
      "execution_count": 53,
      "outputs": [
        {
          "output_type": "stream",
          "name": "stdout",
          "text": [
            "Requirement already satisfied: wget in /usr/local/lib/python3.7/dist-packages (3.2)\n"
          ]
        }
      ]
    },
    {
      "cell_type": "code",
      "metadata": {
        "colab": {
          "base_uri": "https://localhost:8080/"
        },
        "id": "J-bWGlmrXDdm",
        "outputId": "77011ace-eb95-464a-8a5e-6d46b5857e46"
      },
      "source": [
        "# Google colab mount\n",
        "from google.colab import drive\n",
        "drive.mount('/content/drive')"
      ],
      "execution_count": 54,
      "outputs": [
        {
          "output_type": "stream",
          "name": "stdout",
          "text": [
            "Drive already mounted at /content/drive; to attempt to forcibly remount, call drive.mount(\"/content/drive\", force_remount=True).\n"
          ]
        }
      ]
    },
    {
      "cell_type": "markdown",
      "metadata": {
        "id": "FMWgFIA8XTJy"
      },
      "source": [
        "###If you havn't downloaded movielens data yet, uncomment the code below to download and extract files"
      ]
    },
    {
      "cell_type": "code",
      "metadata": {
        "id": "IO7D0jPMXvB-"
      },
      "source": [
        "# Download data\n",
        "# url = \"https://files.grouplens.org/datasets/movielens/ml-latest-small.zip\"\n",
        "# wget.download(url,'/content/drive/MyDrive/data')\n"
      ],
      "execution_count": 55,
      "outputs": []
    },
    {
      "cell_type": "code",
      "metadata": {
        "id": "AYl78IBgYQAV"
      },
      "source": [
        "# Extract zipfile\n",
        "# you can change to your own path \n",
        "\n",
        "# with zipfile.ZipFile(\"/content/drive/MyDrive/data/ml-latest-small.zip\",\"r\") as zip_ref:\n",
        "#   zip_ref.extractall(\"/content/drive/MyDrive/data\")"
      ],
      "execution_count": 56,
      "outputs": []
    },
    {
      "cell_type": "code",
      "metadata": {
        "colab": {
          "base_uri": "https://localhost:8080/"
        },
        "id": "K914YkOXYSUg",
        "outputId": "1843ce2d-d9c5-4889-ff39-4ea77ea2dc25"
      },
      "source": [
        "path = \"/content/drive/MyDrive/data/ml-latest-small/\"\n",
        "os.listdir(path)"
      ],
      "execution_count": 57,
      "outputs": [
        {
          "output_type": "execute_result",
          "data": {
            "text/plain": [
              "['movies.csv', 'README.txt', 'links.csv', 'ratings.csv', 'tags.csv']"
            ]
          },
          "metadata": {},
          "execution_count": 57
        }
      ]
    },
    {
      "cell_type": "code",
      "metadata": {
        "id": "IZkB6m0yYg-d"
      },
      "source": [
        "# Read movies,ratings,tags files\n",
        "\n",
        "ratings_df = pd.read_csv(os.path.join(path, 'ratings.csv'), encoding='utf-8')\n",
        "movies_df = pd.read_csv(os.path.join(path, 'movies.csv'), index_col='movieId', encoding='utf-8')\n",
        "tags_df = pd.read_csv(os.path.join(path, 'tags.csv'), encoding='utf-8')"
      ],
      "execution_count": 58,
      "outputs": []
    },
    {
      "cell_type": "code",
      "metadata": {
        "colab": {
          "base_uri": "https://localhost:8080/"
        },
        "id": "RR9R0MxkYpER",
        "outputId": "20e2c10a-a673-43f8-df19-005fdf5b965c"
      },
      "source": [
        "# Check ratings_df, movies_df,tags_df\n",
        "\n",
        "print(ratings_df.head())\n",
        "print(ratings_df.shape)\n",
        "\n",
        "print(movies_df.head())\n",
        "print(movies_df.shape)\n",
        "\n",
        "print(tags_df.head())\n",
        "print(tags_df.shape)"
      ],
      "execution_count": 59,
      "outputs": [
        {
          "output_type": "stream",
          "name": "stdout",
          "text": [
            "   userId  movieId  rating  timestamp\n",
            "0       1        1     4.0  964982703\n",
            "1       1        3     4.0  964981247\n",
            "2       1        6     4.0  964982224\n",
            "3       1       47     5.0  964983815\n",
            "4       1       50     5.0  964982931\n",
            "(100836, 4)\n",
            "                                      title                                       genres\n",
            "movieId                                                                                 \n",
            "1                          Toy Story (1995)  Adventure|Animation|Children|Comedy|Fantasy\n",
            "2                            Jumanji (1995)                   Adventure|Children|Fantasy\n",
            "3                   Grumpier Old Men (1995)                               Comedy|Romance\n",
            "4                  Waiting to Exhale (1995)                         Comedy|Drama|Romance\n",
            "5        Father of the Bride Part II (1995)                                       Comedy\n",
            "(9742, 2)\n",
            "   userId  movieId              tag   timestamp\n",
            "0       2    60756            funny  1445714994\n",
            "1       2    60756  Highly quotable  1445714996\n",
            "2       2    60756     will ferrell  1445714992\n",
            "3       2    89774     Boxing story  1445715207\n",
            "4       2    89774              MMA  1445715200\n",
            "(3683, 4)\n"
          ]
        }
      ]
    },
    {
      "cell_type": "code",
      "metadata": {
        "colab": {
          "base_uri": "https://localhost:8080/"
        },
        "id": "vhii8LOZZ16u",
        "outputId": "7b40982e-6a03-4805-b4b7-34548114defd"
      },
      "source": [
        "# Find unique number of userId, movieId\n",
        "\n",
        "print(\"# of unique userId:\", len(ratings_df[\"userId\"].unique()))\n",
        "print(\"# of unique movieId:\", len(ratings_df[\"movieId\"].unique()))"
      ],
      "execution_count": 60,
      "outputs": [
        {
          "output_type": "stream",
          "name": "stdout",
          "text": [
            "# of unique userId: 610\n",
            "# of unique movieId: 9724\n"
          ]
        }
      ]
    },
    {
      "cell_type": "code",
      "metadata": {
        "colab": {
          "base_uri": "https://localhost:8080/"
        },
        "id": "DOy9R4i3bGOf",
        "outputId": "e13e2be6-a750-4b93-9dcc-4600118858c5"
      },
      "source": [
        "# Create pivot table (row = movieId, col= userId, value = rating) from ratings_df\n",
        "\n",
        "ratings_pivot = pd.pivot_table(ratings_df,index=\"movieId\",columns=\"userId\",values=\"rating\").fillna(0)\n",
        "\n",
        "print(ratings_pivot.head())"
      ],
      "execution_count": 61,
      "outputs": [
        {
          "output_type": "stream",
          "name": "stdout",
          "text": [
            "userId   1    2    3    4    5    6    7    ...  604  605  606  607  608  609  610\n",
            "movieId                                     ...                                   \n",
            "1        4.0  0.0  0.0  0.0  4.0  0.0  4.5  ...  3.0  4.0  2.5  4.0  2.5  3.0  5.0\n",
            "2        0.0  0.0  0.0  0.0  0.0  4.0  0.0  ...  5.0  3.5  0.0  0.0  2.0  0.0  0.0\n",
            "3        4.0  0.0  0.0  0.0  0.0  5.0  0.0  ...  0.0  0.0  0.0  0.0  2.0  0.0  0.0\n",
            "4        0.0  0.0  0.0  0.0  0.0  3.0  0.0  ...  0.0  0.0  0.0  0.0  0.0  0.0  0.0\n",
            "5        0.0  0.0  0.0  0.0  0.0  5.0  0.0  ...  3.0  0.0  0.0  0.0  0.0  0.0  0.0\n",
            "\n",
            "[5 rows x 610 columns]\n"
          ]
        }
      ]
    },
    {
      "cell_type": "code",
      "metadata": {
        "colab": {
          "base_uri": "https://localhost:8080/"
        },
        "id": "IkOSwwpVf2GN",
        "outputId": "d26564e1-af96-44e5-8f21-8335ee7e141f"
      },
      "source": [
        "# Convert dataframe to sparse matrix\n",
        "from scipy.sparse import csr_matrix\n",
        "\n",
        "ratings_pivot_sparse = csr_matrix(ratings_pivot.values)\n",
        "print(ratings_pivot_sparse)"
      ],
      "execution_count": 62,
      "outputs": [
        {
          "output_type": "stream",
          "name": "stdout",
          "text": [
            "  (0, 0)\t4.0\n",
            "  (0, 4)\t4.0\n",
            "  (0, 6)\t4.5\n",
            "  (0, 14)\t2.5\n",
            "  (0, 16)\t4.5\n",
            "  (0, 17)\t3.5\n",
            "  (0, 18)\t4.0\n",
            "  (0, 20)\t3.5\n",
            "  (0, 26)\t3.0\n",
            "  (0, 30)\t5.0\n",
            "  (0, 31)\t3.0\n",
            "  (0, 32)\t3.0\n",
            "  (0, 39)\t5.0\n",
            "  (0, 42)\t5.0\n",
            "  (0, 43)\t3.0\n",
            "  (0, 44)\t4.0\n",
            "  (0, 45)\t5.0\n",
            "  (0, 49)\t3.0\n",
            "  (0, 53)\t3.0\n",
            "  (0, 56)\t5.0\n",
            "  (0, 62)\t5.0\n",
            "  (0, 63)\t4.0\n",
            "  (0, 65)\t4.0\n",
            "  (0, 67)\t2.5\n",
            "  (0, 70)\t5.0\n",
            "  :\t:\n",
            "  (9700, 337)\t2.5\n",
            "  (9701, 337)\t3.0\n",
            "  (9702, 183)\t4.0\n",
            "  (9702, 247)\t3.5\n",
            "  (9703, 317)\t2.5\n",
            "  (9704, 209)\t1.0\n",
            "  (9705, 461)\t2.5\n",
            "  (9706, 49)\t3.5\n",
            "  (9707, 337)\t1.5\n",
            "  (9708, 337)\t4.0\n",
            "  (9709, 337)\t1.0\n",
            "  (9710, 337)\t1.5\n",
            "  (9711, 337)\t1.0\n",
            "  (9712, 337)\t1.0\n",
            "  (9713, 183)\t4.5\n",
            "  (9714, 183)\t3.5\n",
            "  (9715, 183)\t3.0\n",
            "  (9716, 183)\t4.0\n",
            "  (9717, 183)\t4.0\n",
            "  (9718, 183)\t3.5\n",
            "  (9719, 183)\t4.0\n",
            "  (9720, 183)\t3.5\n",
            "  (9721, 183)\t3.5\n",
            "  (9722, 183)\t3.5\n",
            "  (9723, 330)\t4.0\n"
          ]
        }
      ]
    },
    {
      "cell_type": "code",
      "metadata": {
        "id": "Hf1N76MznFya"
      },
      "source": [
        "# # Split Train, Test dataset \n",
        "# from sklearn.model_selection import train_test_split\n",
        "# train, test = train_test_split(ratings_df,test_size =0.2, random_state = 1004)\n",
        "\n",
        "# print(\"shape of original dataset:\", ratings_df.shape)\n",
        "# print(\"shape of train dataset:\",train.shape)\n",
        "# print(\"shape of test dataset:\",test.shape)\n"
      ],
      "execution_count": 63,
      "outputs": []
    },
    {
      "cell_type": "markdown",
      "metadata": {
        "id": "D-HEp2vSmo5v"
      },
      "source": [
        "##Simple Recommender System \n",
        "\n",
        "1.   Rating prediction based on average movie ratings\n",
        "2.   Rating prediction based on average user ratings\n",
        "\n",
        "###Prediction Errors\n",
        "\n",
        "1.   Root Mean Square Error (RMSE) \n",
        "\n",
        "\n",
        "\n"
      ]
    },
    {
      "cell_type": "code",
      "metadata": {
        "colab": {
          "base_uri": "https://localhost:8080/"
        },
        "id": "8at-zqkKrCMT",
        "outputId": "f50ef398-17f4-4e1c-e5f5-b269811a233a"
      },
      "source": [
        "print(ratings_df.head())"
      ],
      "execution_count": 64,
      "outputs": [
        {
          "output_type": "stream",
          "name": "stdout",
          "text": [
            "   userId  movieId  rating  timestamp\n",
            "0       1        1     4.0  964982703\n",
            "1       1        3     4.0  964981247\n",
            "2       1        6     4.0  964982224\n",
            "3       1       47     5.0  964983815\n",
            "4       1       50     5.0  964982931\n"
          ]
        }
      ]
    },
    {
      "cell_type": "markdown",
      "metadata": {
        "id": "E7KXIh-zaBEL"
      },
      "source": [
        "##1. Rating prediction with average movie ratings"
      ]
    },
    {
      "cell_type": "code",
      "metadata": {
        "colab": {
          "base_uri": "https://localhost:8080/"
        },
        "id": "USEHB45DrOss",
        "outputId": "b99a1a2f-5805-4ca5-e31d-ffac2c59423e"
      },
      "source": [
        "# Create df with average movie ratings by movie id\n",
        "movie_rating_df [\"Pred_by_movie\"] = ratings_df.groupby(\"movieId\").mean()[\"rating\"]\n",
        "movie_rating_df= movie_rating_df[\"Pred_by_movie\"]\n",
        "movie_rating_df = movie_rating_df.to_frame(name=\"Pred_by_movie\")\n",
        "print(movie_rating_df.head())\n",
        "print(movie_rating_df.shape)"
      ],
      "execution_count": 65,
      "outputs": [
        {
          "output_type": "stream",
          "name": "stdout",
          "text": [
            "         Pred_by_movie\n",
            "movieId               \n",
            "1             3.920930\n",
            "2             3.431818\n",
            "3             3.259615\n",
            "4             2.357143\n",
            "5             3.071429\n",
            "(9724, 1)\n"
          ]
        }
      ]
    },
    {
      "cell_type": "code",
      "metadata": {
        "colab": {
          "base_uri": "https://localhost:8080/",
          "height": 204
        },
        "id": "KcKpeQ6mgq9q",
        "outputId": "19235b01-d078-4896-99df-322ac259831f"
      },
      "source": [
        "# merge movie_rating_df and ratings_df (left join)\n",
        "movie_average_final_df = pd.merge(left=ratings_df, right = movie_rating_df, how = \"left\",left_on=\"movieId\",right_on=\"movieId\")\n",
        "movie_average_final_df.head()\n"
      ],
      "execution_count": 66,
      "outputs": [
        {
          "output_type": "execute_result",
          "data": {
            "text/html": [
              "<div>\n",
              "<style scoped>\n",
              "    .dataframe tbody tr th:only-of-type {\n",
              "        vertical-align: middle;\n",
              "    }\n",
              "\n",
              "    .dataframe tbody tr th {\n",
              "        vertical-align: top;\n",
              "    }\n",
              "\n",
              "    .dataframe thead th {\n",
              "        text-align: right;\n",
              "    }\n",
              "</style>\n",
              "<table border=\"1\" class=\"dataframe\">\n",
              "  <thead>\n",
              "    <tr style=\"text-align: right;\">\n",
              "      <th></th>\n",
              "      <th>userId</th>\n",
              "      <th>movieId</th>\n",
              "      <th>rating</th>\n",
              "      <th>timestamp</th>\n",
              "      <th>Pred_by_movie</th>\n",
              "    </tr>\n",
              "  </thead>\n",
              "  <tbody>\n",
              "    <tr>\n",
              "      <th>0</th>\n",
              "      <td>1</td>\n",
              "      <td>1</td>\n",
              "      <td>4.0</td>\n",
              "      <td>964982703</td>\n",
              "      <td>3.920930</td>\n",
              "    </tr>\n",
              "    <tr>\n",
              "      <th>1</th>\n",
              "      <td>1</td>\n",
              "      <td>3</td>\n",
              "      <td>4.0</td>\n",
              "      <td>964981247</td>\n",
              "      <td>3.259615</td>\n",
              "    </tr>\n",
              "    <tr>\n",
              "      <th>2</th>\n",
              "      <td>1</td>\n",
              "      <td>6</td>\n",
              "      <td>4.0</td>\n",
              "      <td>964982224</td>\n",
              "      <td>3.946078</td>\n",
              "    </tr>\n",
              "    <tr>\n",
              "      <th>3</th>\n",
              "      <td>1</td>\n",
              "      <td>47</td>\n",
              "      <td>5.0</td>\n",
              "      <td>964983815</td>\n",
              "      <td>3.975369</td>\n",
              "    </tr>\n",
              "    <tr>\n",
              "      <th>4</th>\n",
              "      <td>1</td>\n",
              "      <td>50</td>\n",
              "      <td>5.0</td>\n",
              "      <td>964982931</td>\n",
              "      <td>4.237745</td>\n",
              "    </tr>\n",
              "  </tbody>\n",
              "</table>\n",
              "</div>"
            ],
            "text/plain": [
              "   userId  movieId  rating  timestamp  Pred_by_movie\n",
              "0       1        1     4.0  964982703       3.920930\n",
              "1       1        3     4.0  964981247       3.259615\n",
              "2       1        6     4.0  964982224       3.946078\n",
              "3       1       47     5.0  964983815       3.975369\n",
              "4       1       50     5.0  964982931       4.237745"
            ]
          },
          "metadata": {},
          "execution_count": 66
        }
      ]
    },
    {
      "cell_type": "code",
      "metadata": {
        "colab": {
          "base_uri": "https://localhost:8080/"
        },
        "id": "HOgkHuETzmxE",
        "outputId": "2d96cbd3-1384-4f13-dd9a-0e79c24471db"
      },
      "source": [
        "# Prediction errors (RMSE)\n",
        "import numpy as np\n",
        "from sklearn.metrics import mean_squared_error\n",
        "\n",
        "mse = mean_squared_error(y_true=movie_average_final_df[\"rating\"].values, y_pred=movie_average_final_df[\"Pred_by_movie\"].values)\n",
        "rmse = np.sqrt(mse)\n",
        "print(\"RMSE:\", rmse)"
      ],
      "execution_count": 67,
      "outputs": [
        {
          "output_type": "stream",
          "name": "stdout",
          "text": [
            "RMSE: 0.8761725163561306\n"
          ]
        }
      ]
    },
    {
      "cell_type": "markdown",
      "metadata": {
        "id": "nKlBhP8Y1cMM"
      },
      "source": [
        "##2. Rating prediction based on average user ratings"
      ]
    },
    {
      "cell_type": "code",
      "metadata": {
        "colab": {
          "base_uri": "https://localhost:8080/"
        },
        "id": "WKbTQar-3qJE",
        "outputId": "17481def-59d2-428a-fc93-c4edd77f2cb5"
      },
      "source": [
        "print(ratings_df.head())"
      ],
      "execution_count": 72,
      "outputs": [
        {
          "output_type": "stream",
          "name": "stdout",
          "text": [
            "   userId  movieId  rating  timestamp\n",
            "0       1        1     4.0  964982703\n",
            "1       1        3     4.0  964981247\n",
            "2       1        6     4.0  964982224\n",
            "3       1       47     5.0  964983815\n",
            "4       1       50     5.0  964982931\n"
          ]
        }
      ]
    },
    {
      "cell_type": "code",
      "metadata": {
        "colab": {
          "base_uri": "https://localhost:8080/"
        },
        "id": "el5vo_Uu1r3L",
        "outputId": "af2acaf5-5085-44ea-b1d1-e6d311977c4a"
      },
      "source": [
        "# Create df with average movie ratings by user id\n",
        "\n",
        "user_rating_df[\"Pred_by_user\"] = ratings_df.groupby(\"userId\").mean()[\"rating\"]\n",
        "user_rating_df = user_rating_df[\"Pred_by_user\"]\n",
        "user_rating_df = user_rating_df.to_frame(name=\"Pred_by_user\")\n",
        "print(user_rating_df.head())"
      ],
      "execution_count": 82,
      "outputs": [
        {
          "output_type": "stream",
          "name": "stdout",
          "text": [
            "        Pred_by_user\n",
            "userId              \n",
            "1           4.366379\n",
            "2           3.948276\n",
            "3           2.435897\n",
            "4           3.555556\n",
            "5           3.636364\n"
          ]
        }
      ]
    },
    {
      "cell_type": "code",
      "metadata": {
        "colab": {
          "base_uri": "https://localhost:8080/",
          "height": 204
        },
        "id": "THl0UtcD5DCd",
        "outputId": "5ac46e6d-2795-4426-f5c0-6dff23ec13f9"
      },
      "source": [
        "# merge user_rating_df and movie_average_final_df (left join)\n",
        "user_average_final_df = pd.merge(left=movie_average_final_df, right = user_rating_df, how = \"left\",left_on=\"userId\",right_on=\"userId\")\n",
        "user_average_final_df.head()"
      ],
      "execution_count": 84,
      "outputs": [
        {
          "output_type": "execute_result",
          "data": {
            "text/html": [
              "<div>\n",
              "<style scoped>\n",
              "    .dataframe tbody tr th:only-of-type {\n",
              "        vertical-align: middle;\n",
              "    }\n",
              "\n",
              "    .dataframe tbody tr th {\n",
              "        vertical-align: top;\n",
              "    }\n",
              "\n",
              "    .dataframe thead th {\n",
              "        text-align: right;\n",
              "    }\n",
              "</style>\n",
              "<table border=\"1\" class=\"dataframe\">\n",
              "  <thead>\n",
              "    <tr style=\"text-align: right;\">\n",
              "      <th></th>\n",
              "      <th>userId</th>\n",
              "      <th>movieId</th>\n",
              "      <th>rating</th>\n",
              "      <th>timestamp</th>\n",
              "      <th>Pred_by_movie</th>\n",
              "      <th>Pred_by_user</th>\n",
              "    </tr>\n",
              "  </thead>\n",
              "  <tbody>\n",
              "    <tr>\n",
              "      <th>0</th>\n",
              "      <td>1</td>\n",
              "      <td>1</td>\n",
              "      <td>4.0</td>\n",
              "      <td>964982703</td>\n",
              "      <td>3.920930</td>\n",
              "      <td>4.366379</td>\n",
              "    </tr>\n",
              "    <tr>\n",
              "      <th>1</th>\n",
              "      <td>1</td>\n",
              "      <td>3</td>\n",
              "      <td>4.0</td>\n",
              "      <td>964981247</td>\n",
              "      <td>3.259615</td>\n",
              "      <td>4.366379</td>\n",
              "    </tr>\n",
              "    <tr>\n",
              "      <th>2</th>\n",
              "      <td>1</td>\n",
              "      <td>6</td>\n",
              "      <td>4.0</td>\n",
              "      <td>964982224</td>\n",
              "      <td>3.946078</td>\n",
              "      <td>4.366379</td>\n",
              "    </tr>\n",
              "    <tr>\n",
              "      <th>3</th>\n",
              "      <td>1</td>\n",
              "      <td>47</td>\n",
              "      <td>5.0</td>\n",
              "      <td>964983815</td>\n",
              "      <td>3.975369</td>\n",
              "      <td>4.366379</td>\n",
              "    </tr>\n",
              "    <tr>\n",
              "      <th>4</th>\n",
              "      <td>1</td>\n",
              "      <td>50</td>\n",
              "      <td>5.0</td>\n",
              "      <td>964982931</td>\n",
              "      <td>4.237745</td>\n",
              "      <td>4.366379</td>\n",
              "    </tr>\n",
              "  </tbody>\n",
              "</table>\n",
              "</div>"
            ],
            "text/plain": [
              "   userId  movieId  rating  timestamp  Pred_by_movie  Pred_by_user\n",
              "0       1        1     4.0  964982703       3.920930      4.366379\n",
              "1       1        3     4.0  964981247       3.259615      4.366379\n",
              "2       1        6     4.0  964982224       3.946078      4.366379\n",
              "3       1       47     5.0  964983815       3.975369      4.366379\n",
              "4       1       50     5.0  964982931       4.237745      4.366379"
            ]
          },
          "metadata": {},
          "execution_count": 84
        }
      ]
    },
    {
      "cell_type": "code",
      "metadata": {
        "colab": {
          "base_uri": "https://localhost:8080/"
        },
        "id": "KIOFLc4u5luv",
        "outputId": "74a3241d-bf3c-4a01-bbbd-01d23a951069"
      },
      "source": [
        "# Prediction errors (RMSE)\n",
        "\n",
        "mse = mean_squared_error(y_true=user_average_final_df[\"rating\"].values, y_pred=user_average_final_df[\"Pred_by_user\"].values)\n",
        "rmse = np.sqrt(mse)\n",
        "print(\"RMSE:\", rmse)"
      ],
      "execution_count": 85,
      "outputs": [
        {
          "output_type": "stream",
          "name": "stdout",
          "text": [
            "RMSE: 0.934721133650792\n"
          ]
        }
      ]
    }
  ]
}
