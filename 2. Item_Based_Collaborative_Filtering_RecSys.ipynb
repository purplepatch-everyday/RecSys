{
  "nbformat": 4,
  "nbformat_minor": 0,
  "metadata": {
    "colab": {
      "name": "Item Based Collaborative Filtering RecSys.ipynb",
      "provenance": [],
      "collapsed_sections": [],
      "authorship_tag": "ABX9TyM1OLGcqOaD3DabuPSVxqi0",
      "include_colab_link": true
    },
    "kernelspec": {
      "name": "python3",
      "display_name": "Python 3"
    },
    "language_info": {
      "name": "python"
    },
    "accelerator": "GPU"
  },
  "cells": [
    {
      "cell_type": "markdown",
      "metadata": {
        "id": "view-in-github",
        "colab_type": "text"
      },
      "source": [
        "<a href=\"https://colab.research.google.com/github/purplepatch-everyday/RecSys/blob/main/Item_Based_Collaborative_Filtering_RecSys.ipynb\" target=\"_parent\"><img src=\"https://colab.research.google.com/assets/colab-badge.svg\" alt=\"Open In Colab\"/></a>"
      ]
    },
    {
      "cell_type": "markdown",
      "metadata": {
        "id": "PAt7AzxfvIbt"
      },
      "source": [
        "#Building Item Based Collaborative Filtering Recommendation System \n",
        "Used\n",
        "*   Movielens data\n",
        "*   Cosine similarity\n",
        "\n"
      ]
    },
    {
      "cell_type": "code",
      "metadata": {
        "colab": {
          "base_uri": "https://localhost:8080/"
        },
        "id": "fDabibS4urVv",
        "outputId": "719bc3f4-a1f9-4efd-e112-7bef13eb7308"
      },
      "source": [
        "!pip install wget\n",
        "import wget\n",
        "import zipfile\n",
        "import os\n",
        "import pandas as pd"
      ],
      "execution_count": 2,
      "outputs": [
        {
          "output_type": "stream",
          "name": "stdout",
          "text": [
            "Collecting wget\n",
            "  Downloading wget-3.2.zip (10 kB)\n",
            "Building wheels for collected packages: wget\n",
            "  Building wheel for wget (setup.py) ... \u001b[?25l\u001b[?25hdone\n",
            "  Created wheel for wget: filename=wget-3.2-py3-none-any.whl size=9672 sha256=f1e6a596c7868a0b9630b6fefdc4bb2c8240edf928fdb6cb817b8fc20e1e6418\n",
            "  Stored in directory: /root/.cache/pip/wheels/a1/b6/7c/0e63e34eb06634181c63adacca38b79ff8f35c37e3c13e3c02\n",
            "Successfully built wget\n",
            "Installing collected packages: wget\n",
            "Successfully installed wget-3.2\n"
          ]
        }
      ]
    },
    {
      "cell_type": "code",
      "metadata": {
        "colab": {
          "base_uri": "https://localhost:8080/"
        },
        "id": "4INOW4lG5x41",
        "outputId": "fe02d297-8f29-4ca1-ef0f-1fb6d15e4581"
      },
      "source": [
        "# Google colab mount\n",
        "from google.colab import drive\n",
        "drive.mount('/content/drive')"
      ],
      "execution_count": 1,
      "outputs": [
        {
          "output_type": "stream",
          "name": "stdout",
          "text": [
            "Mounted at /content/drive\n"
          ]
        }
      ]
    },
    {
      "cell_type": "markdown",
      "metadata": {
        "id": "sZ6S5MdY6Dq9"
      },
      "source": [
        "If you havn't downloaded movielens data yet, uncomment the code below to download and extract files"
      ]
    },
    {
      "cell_type": "code",
      "metadata": {
        "id": "w_Bp49VE6Fkp"
      },
      "source": [
        "# Download data\n",
        "# url = \"https://files.grouplens.org/datasets/movielens/ml-latest-small.zip\"\n",
        "# wget.download(url,'/content/drive/MyDrive/data')"
      ],
      "execution_count": null,
      "outputs": []
    },
    {
      "cell_type": "code",
      "metadata": {
        "id": "mYlLIFfA6Ktp"
      },
      "source": [
        "# Extract zipfile\n",
        "# you can change to your own path \n",
        "\n",
        "# with zipfile.ZipFile(\"/content/drive/MyDrive/data/ml-latest-small.zip\",\"r\") as zip_ref:\n",
        "#   zip_ref.extractall(\"/content/drive/MyDrive/data\")"
      ],
      "execution_count": null,
      "outputs": []
    },
    {
      "cell_type": "code",
      "metadata": {
        "colab": {
          "base_uri": "https://localhost:8080/"
        },
        "id": "HPbs_Ydp6M9M",
        "outputId": "c848ba80-a30a-4323-d18d-252c8aee968e"
      },
      "source": [
        "path = \"/content/drive/MyDrive/data/ml-latest-small/\"\n",
        "os.listdir(path)"
      ],
      "execution_count": 3,
      "outputs": [
        {
          "output_type": "execute_result",
          "data": {
            "text/plain": [
              "['movies.csv', 'README.txt', 'links.csv', 'ratings.csv', 'tags.csv']"
            ]
          },
          "metadata": {},
          "execution_count": 3
        }
      ]
    },
    {
      "cell_type": "code",
      "metadata": {
        "id": "t2Dr2SZn6TYt"
      },
      "source": [
        "# Read movies,ratings files\n",
        "\n",
        "ratings_df = pd.read_csv(os.path.join(path, 'ratings.csv'), encoding='utf-8')\n",
        "movies_df = pd.read_csv(os.path.join(path, 'movies.csv'), index_col='movieId', encoding='utf-8')"
      ],
      "execution_count": 19,
      "outputs": []
    },
    {
      "cell_type": "code",
      "metadata": {
        "colab": {
          "base_uri": "https://localhost:8080/"
        },
        "id": "CwK0foNt7SUA",
        "outputId": "9f2557cc-1eaa-4216-ee51-b93f7f11fa52"
      },
      "source": [
        "print(ratings_df.head())\n",
        "print(movies_df.head())"
      ],
      "execution_count": 20,
      "outputs": [
        {
          "output_type": "stream",
          "name": "stdout",
          "text": [
            "   userId  movieId  rating  timestamp\n",
            "0       1        1     4.0  964982703\n",
            "1       1        3     4.0  964981247\n",
            "2       1        6     4.0  964982224\n",
            "3       1       47     5.0  964983815\n",
            "4       1       50     5.0  964982931\n",
            "                                      title                                       genres\n",
            "movieId                                                                                 \n",
            "1                          Toy Story (1995)  Adventure|Animation|Children|Comedy|Fantasy\n",
            "2                            Jumanji (1995)                   Adventure|Children|Fantasy\n",
            "3                   Grumpier Old Men (1995)                               Comedy|Romance\n",
            "4                  Waiting to Exhale (1995)                         Comedy|Drama|Romance\n",
            "5        Father of the Bride Part II (1995)                                       Comedy\n"
          ]
        }
      ]
    },
    {
      "cell_type": "code",
      "metadata": {
        "colab": {
          "base_uri": "https://localhost:8080/"
        },
        "id": "wUvfKDqQ9JJV",
        "outputId": "d6caf92d-e989-4ead-87ed-ded7375b4016"
      },
      "source": [
        "# Create new df which contains user,movie,ratings data \n",
        "print(ratings_df.columns)\n",
        "\n",
        "# Remove timestamp \n",
        "user_movie_df = ratings_df.drop('timestamp',axis=1)\n",
        "print(user_movie_df.head())\n",
        "\n",
        "# Merge user_movie_df and movis_df\n",
        "user_movie_df = pd.merge(left=user_movie_df,right=movies_df,how=\"left\",left_on=\"movieId\",right_on=\"movieId\")\n",
        "user_movie_df = user_movie_df.drop(\"genres\",axis=1)\n",
        "print(user_movie_df.head())\n",
        "print(user_movie_df.columns)\n",
        "\n"
      ],
      "execution_count": 27,
      "outputs": [
        {
          "output_type": "stream",
          "name": "stdout",
          "text": [
            "Index(['userId', 'movieId', 'rating', 'timestamp'], dtype='object')\n",
            "   userId  movieId  rating\n",
            "0       1        1     4.0\n",
            "1       1        3     4.0\n",
            "2       1        6     4.0\n",
            "3       1       47     5.0\n",
            "4       1       50     5.0\n",
            "   userId  movieId  rating                        title\n",
            "0       1        1     4.0             Toy Story (1995)\n",
            "1       1        3     4.0      Grumpier Old Men (1995)\n",
            "2       1        6     4.0                  Heat (1995)\n",
            "3       1       47     5.0  Seven (a.k.a. Se7en) (1995)\n",
            "4       1       50     5.0   Usual Suspects, The (1995)\n",
            "Index(['userId', 'movieId', 'rating', 'title'], dtype='object')\n"
          ]
        }
      ]
    },
    {
      "cell_type": "code",
      "metadata": {
        "colab": {
          "base_uri": "https://localhost:8080/"
        },
        "id": "9pTO3UUdBHyZ",
        "outputId": "0f61e03b-4548-42d2-ab04-23f1de15d94c"
      },
      "source": [
        "# Create Pivot table (item based = movie based)\n",
        "\n",
        "movie_pivot = pd.pivot_table(user_movie_df, index = \"title\", columns = \"userId\",values=\"rating\")\n",
        "movie_pivot.fillna(0,inplace=True)\n",
        "\n",
        "print(movie_pivot)"
      ],
      "execution_count": 52,
      "outputs": [
        {
          "output_type": "stream",
          "name": "stdout",
          "text": [
            "userId                                     1    2    3    ...  608  609  610\n",
            "title                                                     ...               \n",
            "'71 (2014)                                 0.0  0.0  0.0  ...  0.0  0.0  4.0\n",
            "'Hellboy': The Seeds of Creation (2004)    0.0  0.0  0.0  ...  0.0  0.0  0.0\n",
            "'Round Midnight (1986)                     0.0  0.0  0.0  ...  0.0  0.0  0.0\n",
            "'Salem's Lot (2004)                        0.0  0.0  0.0  ...  0.0  0.0  0.0\n",
            "'Til There Was You (1997)                  0.0  0.0  0.0  ...  0.0  0.0  0.0\n",
            "...                                        ...  ...  ...  ...  ...  ...  ...\n",
            "eXistenZ (1999)                            0.0  0.0  0.0  ...  4.5  0.0  0.0\n",
            "xXx (2002)                                 0.0  0.0  0.0  ...  3.5  0.0  2.0\n",
            "xXx: State of the Union (2005)             0.0  0.0  0.0  ...  0.0  0.0  1.5\n",
            "¡Three Amigos! (1986)                      4.0  0.0  0.0  ...  0.0  0.0  0.0\n",
            "À nous la liberté (Freedom for Us) (1931)  0.0  0.0  0.0  ...  0.0  0.0  0.0\n",
            "\n",
            "[9719 rows x 610 columns]\n"
          ]
        }
      ]
    },
    {
      "cell_type": "code",
      "metadata": {
        "colab": {
          "base_uri": "https://localhost:8080/"
        },
        "id": "-Yk6u14AEa2Z",
        "outputId": "6c407ed2-2d78-41d3-86de-c46c2c1f5ac0"
      },
      "source": [
        "# Cosine Similarity \n",
        "\n",
        "from sklearn.metrics.pairwise import cosine_similarity\n",
        "movie_cos_sim = cosine_similarity(movie_pivot)\n",
        "print(movie_cos_sim)\n"
      ],
      "execution_count": 53,
      "outputs": [
        {
          "output_type": "stream",
          "name": "stdout",
          "text": [
            "[[1.         0.         0.         ... 0.32732684 0.         0.        ]\n",
            " [0.         1.         0.70710678 ... 0.         0.         0.        ]\n",
            " [0.         0.70710678 1.         ... 0.         0.         0.        ]\n",
            " ...\n",
            " [0.32732684 0.         0.         ... 1.         0.         0.        ]\n",
            " [0.         0.         0.         ... 0.         1.         0.        ]\n",
            " [0.         0.         0.         ... 0.         0.         1.        ]]\n"
          ]
        }
      ]
    },
    {
      "cell_type": "code",
      "metadata": {
        "colab": {
          "base_uri": "https://localhost:8080/"
        },
        "id": "bbusQDg8FPKs",
        "outputId": "ba9fadbd-2c59-4817-ff87-8a814a5522e3"
      },
      "source": [
        "movie_cos_sim_df = pd.DataFrame(data = movie_cos_sim, index = movie_pivot.index,columns=movie_pivot.index)\n",
        "print(movie_cos_sim_df.head(2))"
      ],
      "execution_count": 54,
      "outputs": [
        {
          "output_type": "stream",
          "name": "stdout",
          "text": [
            "title                                    '71 (2014)  ...  À nous la liberté (Freedom for Us) (1931)\n",
            "title                                                ...                                           \n",
            "'71 (2014)                                      1.0  ...                                        0.0\n",
            "'Hellboy': The Seeds of Creation (2004)         0.0  ...                                        0.0\n",
            "\n",
            "[2 rows x 9719 columns]\n"
          ]
        }
      ]
    },
    {
      "cell_type": "code",
      "metadata": {
        "id": "17qTvChiHS-K"
      },
      "source": [
        "\n",
        "def Top_Recommendation(title):\n",
        "    return movie_cos_sim_df[title].sort_values(ascending=False)[:6]\n",
        "    "
      ],
      "execution_count": 62,
      "outputs": []
    },
    {
      "cell_type": "code",
      "metadata": {
        "colab": {
          "base_uri": "https://localhost:8080/"
        },
        "id": "5ALEHspHH9bg",
        "outputId": "a9f7e0a3-7fae-46c2-a1ac-1cebbea5dc1d"
      },
      "source": [
        "Top_Recommendation('Godfather, The (1972)')"
      ],
      "execution_count": 63,
      "outputs": [
        {
          "output_type": "execute_result",
          "data": {
            "text/plain": [
              "title\n",
              "Godfather, The (1972)                        1.000000\n",
              "Godfather: Part II, The (1974)               0.821773\n",
              "Goodfellas (1990)                            0.664841\n",
              "One Flew Over the Cuckoo's Nest (1975)       0.620536\n",
              "Star Wars: Episode IV - A New Hope (1977)    0.595317\n",
              "Fargo (1996)                                 0.588614\n",
              "Name: Godfather, The (1972), dtype: float64"
            ]
          },
          "metadata": {},
          "execution_count": 63
        }
      ]
    }
  ]
}
