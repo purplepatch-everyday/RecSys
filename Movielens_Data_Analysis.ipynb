{
  "nbformat": 4,
  "nbformat_minor": 0,
  "metadata": {
    "colab": {
      "name": "Movielens Data Analysis",
      "provenance": [],
      "authorship_tag": "ABX9TyNhicj1yWHPzuwdxOwQ2Ngk",
      "include_colab_link": true
    },
    "kernelspec": {
      "name": "python3",
      "display_name": "Python 3"
    },
    "language_info": {
      "name": "python"
    },
    "accelerator": "GPU"
  },
  "cells": [
    {
      "cell_type": "markdown",
      "metadata": {
        "id": "view-in-github",
        "colab_type": "text"
      },
      "source": [
        "<a href=\"https://colab.research.google.com/github/purplepatch-everyday/RecSys/blob/main/Movielens_Data_Analysis.ipynb\" target=\"_parent\"><img src=\"https://colab.research.google.com/assets/colab-badge.svg\" alt=\"Open In Colab\"/></a>"
      ]
    },
    {
      "cell_type": "code",
      "metadata": {
        "colab": {
          "base_uri": "https://localhost:8080/"
        },
        "id": "sxjW9uzi4M3l",
        "outputId": "855369b3-52ef-4715-bcff-a0465723e96d"
      },
      "source": [
        "!pip install wget"
      ],
      "execution_count": 6,
      "outputs": [
        {
          "output_type": "stream",
          "name": "stdout",
          "text": [
            "Requirement already satisfied: wget in /usr/local/lib/python3.7/dist-packages (3.2)\n"
          ]
        }
      ]
    },
    {
      "cell_type": "code",
      "metadata": {
        "id": "PRsHP-GY3d2V"
      },
      "source": [
        "import wget\n",
        "import zipfile\n",
        "import os\n",
        "import pandas as pd\n",
        "from matplotlib import pyplot as pyplot"
      ],
      "execution_count": 7,
      "outputs": []
    },
    {
      "cell_type": "code",
      "metadata": {
        "colab": {
          "base_uri": "https://localhost:8080/"
        },
        "id": "h3LXTStj36Y4",
        "outputId": "141ca05f-b044-4392-efdd-e4291a44a004"
      },
      "source": [
        "# Google colab mount\n",
        "from google.colab import drive\n",
        "drive.mount('/content/drive')"
      ],
      "execution_count": 8,
      "outputs": [
        {
          "output_type": "stream",
          "name": "stdout",
          "text": [
            "Mounted at /content/drive\n"
          ]
        }
      ]
    },
    {
      "cell_type": "code",
      "metadata": {
        "id": "mRR2dBGF4g4Z"
      },
      "source": [
        "# Download data\n",
        "# url = \"https://files.grouplens.org/datasets/movielens/ml-latest-small.zip\"\n",
        "# wget.download(url,'/content/drive/MyDrive/data')\n"
      ],
      "execution_count": 9,
      "outputs": []
    },
    {
      "cell_type": "code",
      "metadata": {
        "id": "s6eSH0715Grx"
      },
      "source": [
        "# Extract zipfile\n",
        "# with zipfile.ZipFile(\"/content/drive/MyDrive/data/ml-latest-small.zip\",\"r\") as zip_ref:\n",
        "#   zip_ref.extractall(\"/content/drive/MyDrive/data\")"
      ],
      "execution_count": 10,
      "outputs": []
    },
    {
      "cell_type": "code",
      "metadata": {
        "colab": {
          "base_uri": "https://localhost:8080/"
        },
        "id": "jcVkumSe6UKc",
        "outputId": "0bf86a28-028a-45ce-83bd-9d4c9329ba41"
      },
      "source": [
        "path = \"/content/drive/MyDrive/data/ml-latest-small/\"\n",
        "os.listdir(path)"
      ],
      "execution_count": 11,
      "outputs": [
        {
          "output_type": "execute_result",
          "data": {
            "text/plain": [
              "['movies.csv', 'README.txt', 'links.csv', 'ratings.csv', 'tags.csv']"
            ]
          },
          "metadata": {},
          "execution_count": 11
        }
      ]
    },
    {
      "cell_type": "code",
      "metadata": {
        "colab": {
          "base_uri": "https://localhost:8080/"
        },
        "id": "YjBAvB6j7KI5",
        "outputId": "bfc4d5c5-4072-4d5f-ad61-9bcddc6972a3"
      },
      "source": [
        "# Read ratings.csv\n",
        "ratings_df =pd.read_csv(os.path.join(path+'ratings.csv'),encoding='utf-8')\n",
        "print(ratings_df.head())\n",
        "print(ratings_df.shape)\n",
        "print(list(ratings_df.columns))\n"
      ],
      "execution_count": 12,
      "outputs": [
        {
          "output_type": "stream",
          "name": "stdout",
          "text": [
            "   userId  movieId  rating  timestamp\n",
            "0       1        1     4.0  964982703\n",
            "1       1        3     4.0  964981247\n",
            "2       1        6     4.0  964982224\n",
            "3       1       47     5.0  964983815\n",
            "4       1       50     5.0  964982931\n",
            "(100836, 4)\n",
            "['userId', 'movieId', 'rating', 'timestamp']\n"
          ]
        }
      ]
    },
    {
      "cell_type": "code",
      "metadata": {
        "colab": {
          "base_uri": "https://localhost:8080/"
        },
        "id": "1Q_2X8d0-xH-",
        "outputId": "31df987b-0fe1-4343-f2c8-d4cd6a4e6964"
      },
      "source": [
        "# Analyze ratings_df\n",
        "\n",
        "# unique value of userId\n",
        "print(\"unique userID:\",len(ratings_df['userId'].unique()))\n",
        "# unique value of movieId\n",
        "print(\"unique movieID:\",len(ratings_df['movieId'].unique()))\n",
        "# average ratings\n",
        "print(\"average movie ratings:\", ratings_df[\"rating\"].mean())\n",
        "ratings_df.info()\n",
        "ratings_df.describe()\n",
        "ratings_df.isnull().sum()"
      ],
      "execution_count": 13,
      "outputs": [
        {
          "output_type": "stream",
          "name": "stdout",
          "text": [
            "unique userID: 610\n",
            "unique movieID: 9724\n",
            "average movie ratings: 3.501556983616962\n",
            "<class 'pandas.core.frame.DataFrame'>\n",
            "RangeIndex: 100836 entries, 0 to 100835\n",
            "Data columns (total 4 columns):\n",
            " #   Column     Non-Null Count   Dtype  \n",
            "---  ------     --------------   -----  \n",
            " 0   userId     100836 non-null  int64  \n",
            " 1   movieId    100836 non-null  int64  \n",
            " 2   rating     100836 non-null  float64\n",
            " 3   timestamp  100836 non-null  int64  \n",
            "dtypes: float64(1), int64(3)\n",
            "memory usage: 3.1 MB\n"
          ]
        },
        {
          "output_type": "execute_result",
          "data": {
            "text/plain": [
              "userId       0\n",
              "movieId      0\n",
              "rating       0\n",
              "timestamp    0\n",
              "dtype: int64"
            ]
          },
          "metadata": {},
          "execution_count": 13
        }
      ]
    },
    {
      "cell_type": "code",
      "metadata": {
        "colab": {
          "base_uri": "https://localhost:8080/"
        },
        "id": "Gzy5LMfQ8q24",
        "outputId": "b4e25fb7-30fd-4c6f-9624-8032b0b2db89"
      },
      "source": [
        "# Read tags.csv\n",
        "tags_df =pd.read_csv(os.path.join(path+'tags.csv'),encoding='utf-8')\n",
        "print(tags_df.head())\n",
        "print(tags_df.shape)\n",
        "print(list(tags_df.columns))\n"
      ],
      "execution_count": 14,
      "outputs": [
        {
          "output_type": "stream",
          "name": "stdout",
          "text": [
            "   userId  movieId              tag   timestamp\n",
            "0       2    60756            funny  1445714994\n",
            "1       2    60756  Highly quotable  1445714996\n",
            "2       2    60756     will ferrell  1445714992\n",
            "3       2    89774     Boxing story  1445715207\n",
            "4       2    89774              MMA  1445715200\n",
            "(3683, 4)\n",
            "['userId', 'movieId', 'tag', 'timestamp']\n"
          ]
        }
      ]
    },
    {
      "cell_type": "code",
      "metadata": {
        "colab": {
          "base_uri": "https://localhost:8080/"
        },
        "id": "8dc6Zq5VBHrZ",
        "outputId": "b9ebceab-bd58-4012-81af-5fdc7f566705"
      },
      "source": [
        "# Analyze tags_df\n",
        "\n",
        "# unique value of userId\n",
        "print(\"unique userID:\",len(tags_df['userId'].unique()))\n",
        "# unique value of movieId\n",
        "print(\"unique movieID:\",len(tags_df['movieId'].unique()))\n",
        "# unique tags\n",
        "print(\"unique tags:\", len(tags_df[\"tag\"].unique()))\n",
        "tags_df.info()\n",
        "tags_df.describe()\n",
        "tags_df.isnull().sum()"
      ],
      "execution_count": 15,
      "outputs": [
        {
          "output_type": "stream",
          "name": "stdout",
          "text": [
            "unique userID: 58\n",
            "unique movieID: 1572\n",
            "unique tags: 1589\n",
            "<class 'pandas.core.frame.DataFrame'>\n",
            "RangeIndex: 3683 entries, 0 to 3682\n",
            "Data columns (total 4 columns):\n",
            " #   Column     Non-Null Count  Dtype \n",
            "---  ------     --------------  ----- \n",
            " 0   userId     3683 non-null   int64 \n",
            " 1   movieId    3683 non-null   int64 \n",
            " 2   tag        3683 non-null   object\n",
            " 3   timestamp  3683 non-null   int64 \n",
            "dtypes: int64(3), object(1)\n",
            "memory usage: 115.2+ KB\n"
          ]
        },
        {
          "output_type": "execute_result",
          "data": {
            "text/plain": [
              "userId       0\n",
              "movieId      0\n",
              "tag          0\n",
              "timestamp    0\n",
              "dtype: int64"
            ]
          },
          "metadata": {},
          "execution_count": 15
        }
      ]
    },
    {
      "cell_type": "code",
      "metadata": {
        "colab": {
          "base_uri": "https://localhost:8080/"
        },
        "id": "9MR-5Cnz8xwQ",
        "outputId": "7de7ac18-e6ae-4ab9-c2ed-29ecc1b28d79"
      },
      "source": [
        "# Read movies.csv\n",
        "movies_df=pd.read_csv(os.path.join(path + \"movies.csv\"),encoding=\"utf-8\",index_col=\"movieId\")\n",
        "print(movies_df.head())\n",
        "print(movies_df.shape)\n",
        "print(list(movies_df.columns))"
      ],
      "execution_count": 16,
      "outputs": [
        {
          "output_type": "stream",
          "name": "stdout",
          "text": [
            "                                      title                                       genres\n",
            "movieId                                                                                 \n",
            "1                          Toy Story (1995)  Adventure|Animation|Children|Comedy|Fantasy\n",
            "2                            Jumanji (1995)                   Adventure|Children|Fantasy\n",
            "3                   Grumpier Old Men (1995)                               Comedy|Romance\n",
            "4                  Waiting to Exhale (1995)                         Comedy|Drama|Romance\n",
            "5        Father of the Bride Part II (1995)                                       Comedy\n",
            "(9742, 2)\n",
            "['title', 'genres']\n"
          ]
        }
      ]
    },
    {
      "cell_type": "code",
      "metadata": {
        "colab": {
          "base_uri": "https://localhost:8080/"
        },
        "id": "Gr3ON4JzBrOt",
        "outputId": "281c698d-9f8c-44cb-c531-784c9a12c140"
      },
      "source": [
        "# Analyze movies_df\n",
        "\n",
        "movies_df.info()\n",
        "\n",
        "movies_df.isnull().sum()"
      ],
      "execution_count": 17,
      "outputs": [
        {
          "output_type": "stream",
          "name": "stdout",
          "text": [
            "<class 'pandas.core.frame.DataFrame'>\n",
            "Int64Index: 9742 entries, 1 to 193609\n",
            "Data columns (total 2 columns):\n",
            " #   Column  Non-Null Count  Dtype \n",
            "---  ------  --------------  ----- \n",
            " 0   title   9742 non-null   object\n",
            " 1   genres  9742 non-null   object\n",
            "dtypes: object(2)\n",
            "memory usage: 228.3+ KB\n"
          ]
        },
        {
          "output_type": "execute_result",
          "data": {
            "text/plain": [
              "title     0\n",
              "genres    0\n",
              "dtype: int64"
            ]
          },
          "metadata": {},
          "execution_count": 17
        }
      ]
    },
    {
      "cell_type": "code",
      "metadata": {
        "colab": {
          "base_uri": "https://localhost:8080/",
          "height": 235
        },
        "id": "SW18AsRaCChZ",
        "outputId": "ad007a23-9429-4d64-89d6-1d8c7b51cf3a"
      },
      "source": [
        "# Create Dataframe\n",
        "user_ratings_df = pd.DataFrame({\n",
        "    'num of ratings': ratings_df.groupby('userId')['movieId'].count(),\n",
        "    'average ratings': ratings_df.groupby('userId')['rating'].mean()\n",
        "})\n",
        "user_ratings_df.head()"
      ],
      "execution_count": 18,
      "outputs": [
        {
          "output_type": "execute_result",
          "data": {
            "text/html": [
              "<div>\n",
              "<style scoped>\n",
              "    .dataframe tbody tr th:only-of-type {\n",
              "        vertical-align: middle;\n",
              "    }\n",
              "\n",
              "    .dataframe tbody tr th {\n",
              "        vertical-align: top;\n",
              "    }\n",
              "\n",
              "    .dataframe thead th {\n",
              "        text-align: right;\n",
              "    }\n",
              "</style>\n",
              "<table border=\"1\" class=\"dataframe\">\n",
              "  <thead>\n",
              "    <tr style=\"text-align: right;\">\n",
              "      <th></th>\n",
              "      <th>num of ratings</th>\n",
              "      <th>average ratings</th>\n",
              "    </tr>\n",
              "    <tr>\n",
              "      <th>userId</th>\n",
              "      <th></th>\n",
              "      <th></th>\n",
              "    </tr>\n",
              "  </thead>\n",
              "  <tbody>\n",
              "    <tr>\n",
              "      <th>1</th>\n",
              "      <td>232</td>\n",
              "      <td>4.366379</td>\n",
              "    </tr>\n",
              "    <tr>\n",
              "      <th>2</th>\n",
              "      <td>29</td>\n",
              "      <td>3.948276</td>\n",
              "    </tr>\n",
              "    <tr>\n",
              "      <th>3</th>\n",
              "      <td>39</td>\n",
              "      <td>2.435897</td>\n",
              "    </tr>\n",
              "    <tr>\n",
              "      <th>4</th>\n",
              "      <td>216</td>\n",
              "      <td>3.555556</td>\n",
              "    </tr>\n",
              "    <tr>\n",
              "      <th>5</th>\n",
              "      <td>44</td>\n",
              "      <td>3.636364</td>\n",
              "    </tr>\n",
              "  </tbody>\n",
              "</table>\n",
              "</div>"
            ],
            "text/plain": [
              "        num of ratings  average ratings\n",
              "userId                                 \n",
              "1                  232         4.366379\n",
              "2                   29         3.948276\n",
              "3                   39         2.435897\n",
              "4                  216         3.555556\n",
              "5                   44         3.636364"
            ]
          },
          "metadata": {},
          "execution_count": 18
        }
      ]
    },
    {
      "cell_type": "code",
      "metadata": {
        "colab": {
          "base_uri": "https://localhost:8080/",
          "height": 339
        },
        "id": "95ByftgeE2o3",
        "outputId": "b7060cba-bd04-4c95-ee73-ddaa33a29f68"
      },
      "source": [
        "import seaborn as sns\n",
        "sns.distplot(user_ratings_df.values)"
      ],
      "execution_count": 19,
      "outputs": [
        {
          "output_type": "stream",
          "name": "stderr",
          "text": [
            "/usr/local/lib/python3.7/dist-packages/seaborn/distributions.py:2619: FutureWarning: `distplot` is a deprecated function and will be removed in a future version. Please adapt your code to use either `displot` (a figure-level function with similar flexibility) or `histplot` (an axes-level function for histograms).\n",
            "  warnings.warn(msg, FutureWarning)\n"
          ]
        },
        {
          "output_type": "execute_result",
          "data": {
            "text/plain": [
              "<matplotlib.axes._subplots.AxesSubplot at 0x7fe7da871d90>"
            ]
          },
          "metadata": {},
          "execution_count": 19
        },
        {
          "output_type": "display_data",
          "data": {
            "image/png": "[encoded data removed]",
            "text/plain": [
              "<Figure size 432x288 with 1 Axes>"
            ]
          },
          "metadata": {
            "needs_background": "light"
          }
        }
      ]
    },
    {
      "cell_type": "code",
      "metadata": {
        "colab": {
          "base_uri": "https://localhost:8080/"
        },
        "id": "WpPFgMsMG0Q5",
        "outputId": "99d19c72-9bc2-44ee-e9f6-fec3e990a5fb"
      },
      "source": [
        "import itertools\n",
        "all_genres = [genre.split('|') for genre in movies_df['genres'].values]\n",
        "genres = list(set(list(itertools.chain(*all_genres))))\n",
        "print(len(all_genres))\n",
        "print(len(genres))\n",
        "print(genres)"
      ],
      "execution_count": 42,
      "outputs": [
        {
          "output_type": "stream",
          "name": "stdout",
          "text": [
            "9742\n",
            "20\n",
            "['Fantasy', 'Thriller', 'Film-Noir', 'IMAX', 'Adventure', 'Children', '(no genres listed)', 'Crime', 'Western', 'Comedy', 'Animation', 'War', 'Action', 'Documentary', 'Romance', 'Sci-Fi', 'Drama', 'Mystery', 'Musical', 'Horror']\n"
          ]
        }
      ]
    },
    {
      "cell_type": "code",
      "metadata": {
        "colab": {
          "base_uri": "https://localhost:8080/",
          "height": 289
        },
        "id": "YvJG-oxrPGen",
        "outputId": "fe0f54f1-1983-4753-aeb3-ed8bca155f12"
      },
      "source": [
        "genres_df = pd.DataFrame(columns=genres, index=movies_df.index)\n",
        "genres_df.head()"
      ],
      "execution_count": 32,
      "outputs": [
        {
          "output_type": "execute_result",
          "data": {
            "text/html": [
              "<div>\n",
              "<style scoped>\n",
              "    .dataframe tbody tr th:only-of-type {\n",
              "        vertical-align: middle;\n",
              "    }\n",
              "\n",
              "    .dataframe tbody tr th {\n",
              "        vertical-align: top;\n",
              "    }\n",
              "\n",
              "    .dataframe thead th {\n",
              "        text-align: right;\n",
              "    }\n",
              "</style>\n",
              "<table border=\"1\" class=\"dataframe\">\n",
              "  <thead>\n",
              "    <tr style=\"text-align: right;\">\n",
              "      <th></th>\n",
              "      <th>Fantasy</th>\n",
              "      <th>Thriller</th>\n",
              "      <th>Film-Noir</th>\n",
              "      <th>IMAX</th>\n",
              "      <th>Adventure</th>\n",
              "      <th>Children</th>\n",
              "      <th>(no genres listed)</th>\n",
              "      <th>Crime</th>\n",
              "      <th>Western</th>\n",
              "      <th>Comedy</th>\n",
              "      <th>Animation</th>\n",
              "      <th>War</th>\n",
              "      <th>Action</th>\n",
              "      <th>Documentary</th>\n",
              "      <th>Romance</th>\n",
              "      <th>Sci-Fi</th>\n",
              "      <th>Drama</th>\n",
              "      <th>Mystery</th>\n",
              "      <th>Musical</th>\n",
              "      <th>Horror</th>\n",
              "    </tr>\n",
              "    <tr>\n",
              "      <th>movieId</th>\n",
              "      <th></th>\n",
              "      <th></th>\n",
              "      <th></th>\n",
              "      <th></th>\n",
              "      <th></th>\n",
              "      <th></th>\n",
              "      <th></th>\n",
              "      <th></th>\n",
              "      <th></th>\n",
              "      <th></th>\n",
              "      <th></th>\n",
              "      <th></th>\n",
              "      <th></th>\n",
              "      <th></th>\n",
              "      <th></th>\n",
              "      <th></th>\n",
              "      <th></th>\n",
              "      <th></th>\n",
              "      <th></th>\n",
              "      <th></th>\n",
              "    </tr>\n",
              "  </thead>\n",
              "  <tbody>\n",
              "    <tr>\n",
              "      <th>1</th>\n",
              "      <td>NaN</td>\n",
              "      <td>NaN</td>\n",
              "      <td>NaN</td>\n",
              "      <td>NaN</td>\n",
              "      <td>NaN</td>\n",
              "      <td>NaN</td>\n",
              "      <td>NaN</td>\n",
              "      <td>NaN</td>\n",
              "      <td>NaN</td>\n",
              "      <td>NaN</td>\n",
              "      <td>NaN</td>\n",
              "      <td>NaN</td>\n",
              "      <td>NaN</td>\n",
              "      <td>NaN</td>\n",
              "      <td>NaN</td>\n",
              "      <td>NaN</td>\n",
              "      <td>NaN</td>\n",
              "      <td>NaN</td>\n",
              "      <td>NaN</td>\n",
              "      <td>NaN</td>\n",
              "    </tr>\n",
              "    <tr>\n",
              "      <th>2</th>\n",
              "      <td>NaN</td>\n",
              "      <td>NaN</td>\n",
              "      <td>NaN</td>\n",
              "      <td>NaN</td>\n",
              "      <td>NaN</td>\n",
              "      <td>NaN</td>\n",
              "      <td>NaN</td>\n",
              "      <td>NaN</td>\n",
              "      <td>NaN</td>\n",
              "      <td>NaN</td>\n",
              "      <td>NaN</td>\n",
              "      <td>NaN</td>\n",
              "      <td>NaN</td>\n",
              "      <td>NaN</td>\n",
              "      <td>NaN</td>\n",
              "      <td>NaN</td>\n",
              "      <td>NaN</td>\n",
              "      <td>NaN</td>\n",
              "      <td>NaN</td>\n",
              "      <td>NaN</td>\n",
              "    </tr>\n",
              "    <tr>\n",
              "      <th>3</th>\n",
              "      <td>NaN</td>\n",
              "      <td>NaN</td>\n",
              "      <td>NaN</td>\n",
              "      <td>NaN</td>\n",
              "      <td>NaN</td>\n",
              "      <td>NaN</td>\n",
              "      <td>NaN</td>\n",
              "      <td>NaN</td>\n",
              "      <td>NaN</td>\n",
              "      <td>NaN</td>\n",
              "      <td>NaN</td>\n",
              "      <td>NaN</td>\n",
              "      <td>NaN</td>\n",
              "      <td>NaN</td>\n",
              "      <td>NaN</td>\n",
              "      <td>NaN</td>\n",
              "      <td>NaN</td>\n",
              "      <td>NaN</td>\n",
              "      <td>NaN</td>\n",
              "      <td>NaN</td>\n",
              "    </tr>\n",
              "    <tr>\n",
              "      <th>4</th>\n",
              "      <td>NaN</td>\n",
              "      <td>NaN</td>\n",
              "      <td>NaN</td>\n",
              "      <td>NaN</td>\n",
              "      <td>NaN</td>\n",
              "      <td>NaN</td>\n",
              "      <td>NaN</td>\n",
              "      <td>NaN</td>\n",
              "      <td>NaN</td>\n",
              "      <td>NaN</td>\n",
              "      <td>NaN</td>\n",
              "      <td>NaN</td>\n",
              "      <td>NaN</td>\n",
              "      <td>NaN</td>\n",
              "      <td>NaN</td>\n",
              "      <td>NaN</td>\n",
              "      <td>NaN</td>\n",
              "      <td>NaN</td>\n",
              "      <td>NaN</td>\n",
              "      <td>NaN</td>\n",
              "    </tr>\n",
              "    <tr>\n",
              "      <th>5</th>\n",
              "      <td>NaN</td>\n",
              "      <td>NaN</td>\n",
              "      <td>NaN</td>\n",
              "      <td>NaN</td>\n",
              "      <td>NaN</td>\n",
              "      <td>NaN</td>\n",
              "      <td>NaN</td>\n",
              "      <td>NaN</td>\n",
              "      <td>NaN</td>\n",
              "      <td>NaN</td>\n",
              "      <td>NaN</td>\n",
              "      <td>NaN</td>\n",
              "      <td>NaN</td>\n",
              "      <td>NaN</td>\n",
              "      <td>NaN</td>\n",
              "      <td>NaN</td>\n",
              "      <td>NaN</td>\n",
              "      <td>NaN</td>\n",
              "      <td>NaN</td>\n",
              "      <td>NaN</td>\n",
              "    </tr>\n",
              "  </tbody>\n",
              "</table>\n",
              "</div>"
            ],
            "text/plain": [
              "        Fantasy Thriller Film-Noir IMAX  ... Drama Mystery Musical Horror\n",
              "movieId                                  ...                             \n",
              "1           NaN      NaN       NaN  NaN  ...   NaN     NaN     NaN    NaN\n",
              "2           NaN      NaN       NaN  NaN  ...   NaN     NaN     NaN    NaN\n",
              "3           NaN      NaN       NaN  NaN  ...   NaN     NaN     NaN    NaN\n",
              "4           NaN      NaN       NaN  NaN  ...   NaN     NaN     NaN    NaN\n",
              "5           NaN      NaN       NaN  NaN  ...   NaN     NaN     NaN    NaN\n",
              "\n",
              "[5 rows x 20 columns]"
            ]
          },
          "metadata": {},
          "execution_count": 32
        }
      ]
    },
    {
      "cell_type": "code",
      "metadata": {
        "colab": {
          "base_uri": "https://localhost:8080/"
        },
        "id": "gO7ZnuvfyjZo",
        "outputId": "d006259a-f283-488e-bf1f-838db793b8de"
      },
      "source": [
        "print(movies_df.shape)\n",
        "print(movies_df.head(10))"
      ],
      "execution_count": 33,
      "outputs": [
        {
          "output_type": "stream",
          "name": "stdout",
          "text": [
            "(9742, 2)\n",
            "                                      title                                       genres\n",
            "movieId                                                                                 \n",
            "1                          Toy Story (1995)  Adventure|Animation|Children|Comedy|Fantasy\n",
            "2                            Jumanji (1995)                   Adventure|Children|Fantasy\n",
            "3                   Grumpier Old Men (1995)                               Comedy|Romance\n",
            "4                  Waiting to Exhale (1995)                         Comedy|Drama|Romance\n",
            "5        Father of the Bride Part II (1995)                                       Comedy\n",
            "6                               Heat (1995)                        Action|Crime|Thriller\n",
            "7                            Sabrina (1995)                               Comedy|Romance\n",
            "8                       Tom and Huck (1995)                           Adventure|Children\n",
            "9                       Sudden Death (1995)                                       Action\n",
            "10                         GoldenEye (1995)                    Action|Adventure|Thriller\n"
          ]
        }
      ]
    },
    {
      "cell_type": "code",
      "metadata": {
        "id": "04GPa-cEQBNI"
      },
      "source": [
        "for i, row in genres_df.iterrows():\n",
        "    movie_id = row.name\n",
        "    list_of_genres = movies_df.loc[movie_id]['genres'].split('|')\n",
        "\n",
        "    genres_df.loc[movie_id][list_of_genres] = 1"
      ],
      "execution_count": 34,
      "outputs": []
    },
    {
      "cell_type": "code",
      "metadata": {
        "colab": {
          "base_uri": "https://localhost:8080/"
        },
        "id": "1P9Qc2HdQqNe",
        "outputId": "9a1b60e0-edbe-48fe-8788-ee28b68c1da3"
      },
      "source": [
        "print(genres_df.head())"
      ],
      "execution_count": 35,
      "outputs": [
        {
          "output_type": "stream",
          "name": "stdout",
          "text": [
            "        Fantasy Thriller Film-Noir IMAX  ... Drama Mystery Musical Horror\n",
            "movieId                                  ...                             \n",
            "1             1      NaN       NaN  NaN  ...   NaN     NaN     NaN    NaN\n",
            "2             1      NaN       NaN  NaN  ...   NaN     NaN     NaN    NaN\n",
            "3           NaN      NaN       NaN  NaN  ...   NaN     NaN     NaN    NaN\n",
            "4           NaN      NaN       NaN  NaN  ...     1     NaN     NaN    NaN\n",
            "5           NaN      NaN       NaN  NaN  ...   NaN     NaN     NaN    NaN\n",
            "\n",
            "[5 rows x 20 columns]\n"
          ]
        }
      ]
    },
    {
      "cell_type": "code",
      "metadata": {
        "id": "taMDHMFdRrOL"
      },
      "source": [
        ""
      ],
      "execution_count": null,
      "outputs": []
    }
  ]
}