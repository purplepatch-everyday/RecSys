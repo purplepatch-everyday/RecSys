{
  "nbformat": 4,
  "nbformat_minor": 0,
  "metadata": {
    "colab": {
      "name": "Neural Collaborative Filtering.ipynb",
      "provenance": [],
      "authorship_tag": "ABX9TyOdv7CDQUy1qyyodeOOUo9k",
      "include_colab_link": true
    },
    "kernelspec": {
      "name": "python3",
      "display_name": "Python 3"
    },
    "language_info": {
      "name": "python"
    },
    "accelerator": "GPU"
  },
  "cells": [
    {
      "cell_type": "markdown",
      "metadata": {
        "id": "view-in-github",
        "colab_type": "text"
      },
      "source": [
        "<a href=\"https://colab.research.google.com/github/purplepatch-everyday/RecSys/blob/main/5.%20Neural_Collaborative_Filtering.ipynb\" target=\"_parent\"><img src=\"https://colab.research.google.com/assets/colab-badge.svg\" alt=\"Open In Colab\"/></a>"
      ]
    },
    {
      "cell_type": "markdown",
      "metadata": {
        "id": "cTMasAUzhhAY"
      },
      "source": [
        "Neural Collaborative Filtering\n",
        "\n",
        "\n",
        "> [Reference](https://github.com/jaewonlee-728/fastcampus-RecSys/blob/master/04-Recommender-System-with-DeepLearning/01-%EB%94%A5%EB%9F%AC%EB%8B%9D%EA%B3%BC%20%EC%B6%94%EC%B2%9C%EC%95%8C%EA%B3%A0%EB%A6%AC%EC%A6%98-03-Neural%20Collaborative%20Filtering%20%EC%8B%A4%EC%8A%B5.ipynb)\n",
        "\n",
        "\n",
        "\n"
      ]
    },
    {
      "cell_type": "markdown",
      "metadata": {
        "id": "i3HpwX_eMcKR"
      },
      "source": [
        "Mount Google Colab"
      ]
    },
    {
      "cell_type": "code",
      "metadata": {
        "id": "gVDfbUt9MMrZ",
        "colab": {
          "base_uri": "https://localhost:8080/"
        },
        "outputId": "160ee5ce-40be-45b6-8ff4-25cea17185c7"
      },
      "source": [
        "from google.colab import drive\n",
        "drive.mount('/content/drive')"
      ],
      "execution_count": 1,
      "outputs": [
        {
          "output_type": "stream",
          "name": "stdout",
          "text": [
            "Mounted at /content/drive\n"
          ]
        }
      ]
    },
    {
      "cell_type": "markdown",
      "metadata": {
        "id": "XUQLdxfLMwns"
      },
      "source": [
        "Import Modules"
      ]
    },
    {
      "cell_type": "code",
      "metadata": {
        "id": "3TUHviqAl1Q9"
      },
      "source": [
        "import os\n",
        "import pandas as pd\n",
        "import numpy as np\n",
        "from matplotlib import  pyplot as plt\n",
        "from sklearn.model_selection import train_test_split\n",
        "\n",
        "from tqdm.notebook import tqdm\n",
        "import warnings \n",
        "warnings.filterwarnings(\"ignore\")"
      ],
      "execution_count": 2,
      "outputs": []
    },
    {
      "cell_type": "code",
      "metadata": {
        "id": "d8gzAQEsLwSW"
      },
      "source": [
        "import math\n",
        "from torch import nn,optim\n",
        "import torch\n",
        "import torch.nn.functional as F\n",
        "from torch.autograd import Variable"
      ],
      "execution_count": 3,
      "outputs": []
    },
    {
      "cell_type": "markdown",
      "metadata": {
        "id": "OP9MsTi-L-_x"
      },
      "source": [
        "Clone KMRD (Korean Movie Recommender system Dataset)"
      ]
    },
    {
      "cell_type": "code",
      "metadata": {
        "colab": {
          "base_uri": "https://localhost:8080/"
        },
        "id": "LoGmUjZvkyUX",
        "outputId": "11ad6a4a-24d3-483a-adda-adcdc1d1027a"
      },
      "source": [
        "data_path = \"/content/drive/MyDrive/data/\"\n",
        "kmrd_path = data_path +\"kmrd\"\n",
        "%ls\n",
        "%cd $kmrd_path"
      ],
      "execution_count": 4,
      "outputs": [
        {
          "output_type": "stream",
          "name": "stdout",
          "text": [
            "\u001b[0m\u001b[01;34mdrive\u001b[0m/  \u001b[01;34msample_data\u001b[0m/\n",
            "/content/drive/MyDrive/data/kmrd\n"
          ]
        }
      ]
    },
    {
      "cell_type": "code",
      "metadata": {
        "colab": {
          "base_uri": "https://localhost:8080/"
        },
        "id": "iZFPmKG7Elkz",
        "outputId": "e9546316-f956-40b5-9e70-2a372e0ec19d"
      },
      "source": [
        "if os.path.exists(kmrd_path):\n",
        "  print(\"data already exists\")\n",
        "else:\n",
        "  !git clone https://github.com/lovit/kmrd\n",
        "  !python setup.py install\n",
        " "
      ],
      "execution_count": 5,
      "outputs": [
        {
          "output_type": "stream",
          "name": "stdout",
          "text": [
            "data already exists\n"
          ]
        }
      ]
    },
    {
      "cell_type": "markdown",
      "metadata": {
        "id": "48WlznpcNq98"
      },
      "source": [
        "Upload Data set "
      ]
    },
    {
      "cell_type": "code",
      "metadata": {
        "id": "EE7adPzZFS2E"
      },
      "source": [
        "path = \"/content/drive/MyDrive/data/kmrd/kmr_dataset/datafile/kmrd-small/\""
      ],
      "execution_count": 6,
      "outputs": []
    },
    {
      "cell_type": "code",
      "metadata": {
        "id": "tvPYtnw2NxWj"
      },
      "source": [
        "def load_data(path):\n",
        "  df= pd.read_csv(os.path.join(path,'rates.csv'))\n",
        "  train_df,val_df= train_test_split(df,test_size=0.2,random_state=2021,shuffle=True)\n",
        "  return train_df, val_df"
      ],
      "execution_count": 7,
      "outputs": []
    },
    {
      "cell_type": "code",
      "metadata": {
        "colab": {
          "base_uri": "https://localhost:8080/"
        },
        "id": "jS-P94hOTH06",
        "outputId": "9b656577-5dfb-412c-c2cb-b96b13eac8f6"
      },
      "source": [
        "# Check if GPU is running\n",
        "!nvidia-smi"
      ],
      "execution_count": 8,
      "outputs": [
        {
          "output_type": "stream",
          "name": "stdout",
          "text": [
            "Thu Dec  9 08:00:48 2021       \n",
            "+-----------------------------------------------------------------------------+\n",
            "| NVIDIA-SMI 495.44       Driver Version: 460.32.03    CUDA Version: 11.2     |\n",
            "|-------------------------------+----------------------+----------------------+\n",
            "| GPU  Name        Persistence-M| Bus-Id        Disp.A | Volatile Uncorr. ECC |\n",
            "| Fan  Temp  Perf  Pwr:Usage/Cap|         Memory-Usage | GPU-Util  Compute M. |\n",
            "|                               |                      |               MIG M. |\n",
            "|===============================+======================+======================|\n",
            "|   0  Tesla K80           Off  | 00000000:00:04.0 Off |                    0 |\n",
            "| N/A   33C    P8    27W / 149W |      0MiB / 11441MiB |      0%      Default |\n",
            "|                               |                      |                  N/A |\n",
            "+-------------------------------+----------------------+----------------------+\n",
            "                                                                               \n",
            "+-----------------------------------------------------------------------------+\n",
            "| Processes:                                                                  |\n",
            "|  GPU   GI   CI        PID   Type   Process name                  GPU Memory |\n",
            "|        ID   ID                                                   Usage      |\n",
            "|=============================================================================|\n",
            "|  No running processes found                                                 |\n",
            "+-----------------------------------------------------------------------------+\n"
          ]
        }
      ]
    },
    {
      "cell_type": "markdown",
      "metadata": {
        "id": "rW3r1CzjN1ur"
      },
      "source": [
        "Divide Data"
      ]
    },
    {
      "cell_type": "code",
      "metadata": {
        "id": "rXnPJsmpN9sE"
      },
      "source": [
        "train_df,val_df = load_data(path)"
      ],
      "execution_count": 9,
      "outputs": []
    },
    {
      "cell_type": "code",
      "metadata": {
        "colab": {
          "base_uri": "https://localhost:8080/"
        },
        "id": "7eCqx8U0OFEy",
        "outputId": "004b03ac-36ba-45a6-915a-8361469b9cc7"
      },
      "source": [
        "# print train_df information\n",
        "print(train_df.head())\n",
        "print(\"Train dataframe shape:\", train_df.shape)"
      ],
      "execution_count": 14,
      "outputs": [
        {
          "output_type": "stream",
          "name": "stdout",
          "text": [
            "         user  movie  rate        time\n",
            "36582    3172  10045    10  1164646680\n",
            "41743    3861  10002     1  1365691440\n",
            "42704    3985  10058    10  1430740140\n",
            "116745  31576  10132    10  1314386940\n",
            "29516    2326  10016    10  1312598880\n",
            "Train dataframe shape: (112568, 4)\n"
          ]
        }
      ]
    },
    {
      "cell_type": "code",
      "metadata": {
        "colab": {
          "base_uri": "https://localhost:8080/"
        },
        "id": "wYTrAjiAOIwV",
        "outputId": "20f3fb8d-8648-4408-8d2d-9ff96468384d"
      },
      "source": [
        "# print val_df information\n",
        "print(\"Validation dataframe shape:\",val_df.shape)"
      ],
      "execution_count": 15,
      "outputs": [
        {
          "output_type": "stream",
          "name": "stdout",
          "text": [
            "Validation dataframe shape: (28142, 4)\n"
          ]
        }
      ]
    },
    {
      "cell_type": "code",
      "metadata": {
        "colab": {
          "base_uri": "https://localhost:8080/",
          "height": 446
        },
        "id": "wx4IJNu-SDmu",
        "outputId": "74722e81-b48a-4aa1-8476-b44be4c7cdd7"
      },
      "source": [
        "# show data in graphs\n",
        "\n",
        "fig,ax=plt.subplots(1,2,sharex='col',sharey='row',figsize=(12,7))\n",
        "ax=ax.ravel()\n",
        "\n",
        "train_df['rate'].hist(ax=ax[0])\n",
        "val_df['rate'].hist(ax=ax[1])"
      ],
      "execution_count": 16,
      "outputs": [
        {
          "output_type": "execute_result",
          "data": {
            "text/plain": [
              "<matplotlib.axes._subplots.AxesSubplot at 0x7f9c57bcc310>"
            ]
          },
          "metadata": {},
          "execution_count": 16
        },
        {
          "output_type": "display_data",
          "data": {
            "image/png": "[encoded data removed]",
            "text/plain": [
              "<Figure size 864x504 with 2 Axes>"
            ]
          },
          "metadata": {
            "needs_background": "light"
          }
        }
      ]
    },
    {
      "cell_type": "code",
      "metadata": {
        "colab": {
          "base_uri": "https://localhost:8080/"
        },
        "id": "EzYnC1YJSqLf",
        "outputId": "49f66bd8-70ae-4b65-cddd-f5836f2b0f24"
      },
      "source": [
        "# print train_df.rating information\n",
        "\n",
        "print(train_df['rate'].describe())"
      ],
      "execution_count": 19,
      "outputs": [
        {
          "output_type": "stream",
          "name": "stdout",
          "text": [
            "count    112568.000000\n",
            "mean          8.951825\n",
            "std           2.106672\n",
            "min           1.000000\n",
            "25%           9.000000\n",
            "50%          10.000000\n",
            "75%          10.000000\n",
            "max          10.000000\n",
            "Name: rate, dtype: float64\n"
          ]
        }
      ]
    },
    {
      "cell_type": "markdown",
      "metadata": {
        "id": "0uVJHgJOTii1"
      },
      "source": [
        "Load dataframe\n",
        "> load related dataframe and combine \n",
        "\n"
      ]
    },
    {
      "cell_type": "code",
      "metadata": {
        "id": "7pRC02DAUgqb"
      },
      "source": [
        "# Load all related dataframe\n",
        "movies_df = pd.read_csv(os.path.join(path, 'movies.txt'), sep='\\t', encoding='utf-8')\n",
        "movies_df = movies_df.set_index('movie')\n",
        "\n",
        "castings_df = pd.read_csv(os.path.join(path, 'castings.csv'), encoding='utf-8')\n",
        "countries_df = pd.read_csv(os.path.join(path, 'countries.csv'), encoding='utf-8')\n",
        "genres_df = pd.read_csv(os.path.join(path, 'genres.csv'), encoding='utf-8')\n",
        "\n",
        "# Get genre information\n",
        "genres = [(list(set(x['movie'].values))[0], '/'.join(x['genre'].values)) for index, x in genres_df.groupby('movie')]\n",
        "combined_genres_df = pd.DataFrame(data=genres, columns=['movie', 'genres'])\n",
        "combined_genres_df = combined_genres_df.set_index('movie')\n",
        "\n",
        "# Get castings information\n",
        "castings = [(list(set(x['movie'].values))[0], x['people'].values) for index, x in castings_df.groupby('movie')]\n",
        "combined_castings_df = pd.DataFrame(data=castings, columns=['movie','people'])\n",
        "combined_castings_df = combined_castings_df.set_index('movie')\n",
        "\n",
        "# Get countries for movie information\n",
        "countries = [(list(set(x['movie'].values))[0], ','.join(x['country'].values)) for index, x in countries_df.groupby('movie')]\n",
        "combined_countries_df = pd.DataFrame(data=countries, columns=['movie', 'country'])\n",
        "combined_countries_df = combined_countries_df.set_index('movie')\n",
        "\n",
        "movies_df = pd.concat([movies_df, combined_genres_df, combined_castings_df, combined_countries_df], axis=1)"
      ],
      "execution_count": 20,
      "outputs": []
    },
    {
      "cell_type": "code",
      "metadata": {
        "colab": {
          "base_uri": "https://localhost:8080/",
          "height": 411
        },
        "id": "liRO7SctUuh1",
        "outputId": "b5d4760a-594d-4a58-be1f-079cfce6b807"
      },
      "source": [
        "movies_df.head()"
      ],
      "execution_count": 21,
      "outputs": [
        {
          "output_type": "execute_result",
          "data": {
            "text/html": [
              "<div>\n",
              "<style scoped>\n",
              "    .dataframe tbody tr th:only-of-type {\n",
              "        vertical-align: middle;\n",
              "    }\n",
              "\n",
              "    .dataframe tbody tr th {\n",
              "        vertical-align: top;\n",
              "    }\n",
              "\n",
              "    .dataframe thead th {\n",
              "        text-align: right;\n",
              "    }\n",
              "</style>\n",
              "<table border=\"1\" class=\"dataframe\">\n",
              "  <thead>\n",
              "    <tr style=\"text-align: right;\">\n",
              "      <th></th>\n",
              "      <th>title</th>\n",
              "      <th>title_eng</th>\n",
              "      <th>year</th>\n",
              "      <th>grade</th>\n",
              "      <th>genres</th>\n",
              "      <th>people</th>\n",
              "      <th>country</th>\n",
              "    </tr>\n",
              "    <tr>\n",
              "      <th>movie</th>\n",
              "      <th></th>\n",
              "      <th></th>\n",
              "      <th></th>\n",
              "      <th></th>\n",
              "      <th></th>\n",
              "      <th></th>\n",
              "      <th></th>\n",
              "    </tr>\n",
              "  </thead>\n",
              "  <tbody>\n",
              "    <tr>\n",
              "      <th>10001</th>\n",
              "      <td>시네마 천국</td>\n",
              "      <td>Cinema Paradiso , 1988</td>\n",
              "      <td>2013.0</td>\n",
              "      <td>전체 관람가</td>\n",
              "      <td>드라마/멜로/로맨스</td>\n",
              "      <td>[4374, 178, 3241, 47952, 47953, 19538, 18991, ...</td>\n",
              "      <td>이탈리아,프랑스</td>\n",
              "    </tr>\n",
              "    <tr>\n",
              "      <th>10002</th>\n",
              "      <td>빽 투 더 퓨쳐</td>\n",
              "      <td>Back To The Future , 1985</td>\n",
              "      <td>2015.0</td>\n",
              "      <td>12세 관람가</td>\n",
              "      <td>SF/코미디</td>\n",
              "      <td>[1076, 4603, 917, 8637, 5104, 9986, 7470, 9987]</td>\n",
              "      <td>미국</td>\n",
              "    </tr>\n",
              "    <tr>\n",
              "      <th>10003</th>\n",
              "      <td>빽 투 더 퓨쳐 2</td>\n",
              "      <td>Back To The Future Part 2 , 1989</td>\n",
              "      <td>2015.0</td>\n",
              "      <td>12세 관람가</td>\n",
              "      <td>SF/코미디</td>\n",
              "      <td>[1076, 4603, 917, 5104, 391, 5106, 5105, 5107,...</td>\n",
              "      <td>미국</td>\n",
              "    </tr>\n",
              "    <tr>\n",
              "      <th>10004</th>\n",
              "      <td>빽 투 더 퓨쳐 3</td>\n",
              "      <td>Back To The Future Part III , 1990</td>\n",
              "      <td>1990.0</td>\n",
              "      <td>전체 관람가</td>\n",
              "      <td>서부/SF/판타지/코미디</td>\n",
              "      <td>[1076, 4603, 1031, 5104, 10001, 5984, 10002, 1...</td>\n",
              "      <td>미국</td>\n",
              "    </tr>\n",
              "    <tr>\n",
              "      <th>10005</th>\n",
              "      <td>스타워즈 에피소드 4 - 새로운 희망</td>\n",
              "      <td>Star Wars , 1977</td>\n",
              "      <td>1997.0</td>\n",
              "      <td>PG</td>\n",
              "      <td>판타지/모험/SF/액션</td>\n",
              "      <td>[1007, 535, 215, 1236, 35]</td>\n",
              "      <td>미국</td>\n",
              "    </tr>\n",
              "  </tbody>\n",
              "</table>\n",
              "</div>"
            ],
            "text/plain": [
              "                      title  ...   country\n",
              "movie                        ...          \n",
              "10001                시네마 천국  ...  이탈리아,프랑스\n",
              "10002              빽 투 더 퓨쳐  ...        미국\n",
              "10003            빽 투 더 퓨쳐 2  ...        미국\n",
              "10004            빽 투 더 퓨쳐 3  ...        미국\n",
              "10005  스타워즈 에피소드 4 - 새로운 희망  ...        미국\n",
              "\n",
              "[5 rows x 7 columns]"
            ]
          },
          "metadata": {},
          "execution_count": 21
        }
      ]
    }
  ]
}